{
 "cells": [
  {
   "cell_type": "markdown",
   "metadata": {},
   "source": [
    "# （1）Crate A and X matrix\n"
   ]
  },
  {
   "cell_type": "code",
   "execution_count": 2,
   "metadata": {},
   "outputs": [],
   "source": [
    "import pandas as pd\n",
    "import numpy as np\n",
    "\n",
    "OD=pd.read_csv('D:\\\\GNN\\\\OCD\\\\OD_pd.csv')"
   ]
  },
  {
   "cell_type": "code",
   "execution_count": 3,
   "metadata": {},
   "outputs": [
    {
     "data": {
      "text/plain": [
       "2084"
      ]
     },
     "execution_count": 3,
     "metadata": {},
     "output_type": "execute_result"
    }
   ],
   "source": [
    "OD.O_id.max()"
   ]
  },
  {
   "cell_type": "code",
   "execution_count": 4,
   "metadata": {},
   "outputs": [
    {
     "data": {
      "text/html": [
       "<div>\n",
       "<style scoped>\n",
       "    .dataframe tbody tr th:only-of-type {\n",
       "        vertical-align: middle;\n",
       "    }\n",
       "\n",
       "    .dataframe tbody tr th {\n",
       "        vertical-align: top;\n",
       "    }\n",
       "\n",
       "    .dataframe thead th {\n",
       "        text-align: right;\n",
       "    }\n",
       "</style>\n",
       "<table border=\"1\" class=\"dataframe\">\n",
       "  <thead>\n",
       "    <tr style=\"text-align: right;\">\n",
       "      <th></th>\n",
       "      <th>Unnamed: 0</th>\n",
       "      <th>O</th>\n",
       "      <th>D</th>\n",
       "      <th>flow</th>\n",
       "      <th>O_id</th>\n",
       "      <th>D_id</th>\n",
       "    </tr>\n",
       "  </thead>\n",
       "  <tbody>\n",
       "    <tr>\n",
       "      <th>0</th>\n",
       "      <td>0</td>\n",
       "      <td>270539800001</td>\n",
       "      <td>270539800001</td>\n",
       "      <td>7255</td>\n",
       "      <td>1485</td>\n",
       "      <td>1485</td>\n",
       "    </tr>\n",
       "    <tr>\n",
       "      <th>1</th>\n",
       "      <td>1</td>\n",
       "      <td>270530269092</td>\n",
       "      <td>270530269092</td>\n",
       "      <td>3349</td>\n",
       "      <td>1159</td>\n",
       "      <td>1159</td>\n",
       "    </tr>\n",
       "    <tr>\n",
       "      <th>2</th>\n",
       "      <td>2</td>\n",
       "      <td>271390803011</td>\n",
       "      <td>271390803011</td>\n",
       "      <td>2460</td>\n",
       "      <td>1904</td>\n",
       "      <td>1904</td>\n",
       "    </tr>\n",
       "    <tr>\n",
       "      <th>3</th>\n",
       "      <td>3</td>\n",
       "      <td>270530251002</td>\n",
       "      <td>270530251002</td>\n",
       "      <td>2371</td>\n",
       "      <td>861</td>\n",
       "      <td>861</td>\n",
       "    </tr>\n",
       "    <tr>\n",
       "      <th>4</th>\n",
       "      <td>4</td>\n",
       "      <td>271630710181</td>\n",
       "      <td>271630710181</td>\n",
       "      <td>2102</td>\n",
       "      <td>2057</td>\n",
       "      <td>2057</td>\n",
       "    </tr>\n",
       "    <tr>\n",
       "      <th>...</th>\n",
       "      <td>...</td>\n",
       "      <td>...</td>\n",
       "      <td>...</td>\n",
       "      <td>...</td>\n",
       "      <td>...</td>\n",
       "      <td>...</td>\n",
       "    </tr>\n",
       "    <tr>\n",
       "      <th>262058</th>\n",
       "      <td>262058</td>\n",
       "      <td>270530259033</td>\n",
       "      <td>270530267104</td>\n",
       "      <td>1</td>\n",
       "      <td>917</td>\n",
       "      <td>1071</td>\n",
       "    </tr>\n",
       "    <tr>\n",
       "      <th>262059</th>\n",
       "      <td>262059</td>\n",
       "      <td>270530084001</td>\n",
       "      <td>270531052012</td>\n",
       "      <td>1</td>\n",
       "      <td>572</td>\n",
       "      <td>1309</td>\n",
       "    </tr>\n",
       "    <tr>\n",
       "      <th>262060</th>\n",
       "      <td>262060</td>\n",
       "      <td>270530003003</td>\n",
       "      <td>270531007001</td>\n",
       "      <td>1</td>\n",
       "      <td>524</td>\n",
       "      <td>1228</td>\n",
       "    </tr>\n",
       "    <tr>\n",
       "      <th>262061</th>\n",
       "      <td>262061</td>\n",
       "      <td>271230367003</td>\n",
       "      <td>270530249022</td>\n",
       "      <td>1</td>\n",
       "      <td>1682</td>\n",
       "      <td>857</td>\n",
       "    </tr>\n",
       "    <tr>\n",
       "      <th>262062</th>\n",
       "      <td>262062</td>\n",
       "      <td>270530253023</td>\n",
       "      <td>270530239033</td>\n",
       "      <td>1</td>\n",
       "      <td>876</td>\n",
       "      <td>817</td>\n",
       "    </tr>\n",
       "  </tbody>\n",
       "</table>\n",
       "<p>262063 rows × 6 columns</p>\n",
       "</div>"
      ],
      "text/plain": [
       "        Unnamed: 0             O             D  flow  O_id  D_id\n",
       "0                0  270539800001  270539800001  7255  1485  1485\n",
       "1                1  270530269092  270530269092  3349  1159  1159\n",
       "2                2  271390803011  271390803011  2460  1904  1904\n",
       "3                3  270530251002  270530251002  2371   861   861\n",
       "4                4  271630710181  271630710181  2102  2057  2057\n",
       "...            ...           ...           ...   ...   ...   ...\n",
       "262058      262058  270530259033  270530267104     1   917  1071\n",
       "262059      262059  270530084001  270531052012     1   572  1309\n",
       "262060      262060  270530003003  270531007001     1   524  1228\n",
       "262061      262061  271230367003  270530249022     1  1682   857\n",
       "262062      262062  270530253023  270530239033     1   876   817\n",
       "\n",
       "[262063 rows x 6 columns]"
      ]
     },
     "execution_count": 4,
     "metadata": {},
     "output_type": "execute_result"
    }
   ],
   "source": [
    "OD"
   ]
  },
  {
   "cell_type": "code",
   "execution_count": 40,
   "metadata": {},
   "outputs": [],
   "source": [
    "m = n = 2085\n",
    "Mat = [[0] * m] * n"
   ]
  },
  {
   "cell_type": "code",
   "execution_count": 41,
   "metadata": {},
   "outputs": [],
   "source": [
    "Mat_np=np.array(Mat)"
   ]
  },
  {
   "cell_type": "code",
   "execution_count": 42,
   "metadata": {},
   "outputs": [
    {
     "data": {
      "text/plain": [
       "array([[0, 0, 0, ..., 0, 0, 0],\n",
       "       [0, 0, 0, ..., 0, 0, 0],\n",
       "       [0, 0, 0, ..., 0, 0, 0],\n",
       "       ...,\n",
       "       [0, 0, 0, ..., 0, 0, 0],\n",
       "       [0, 0, 0, ..., 0, 0, 0],\n",
       "       [0, 0, 0, ..., 0, 0, 0]])"
      ]
     },
     "execution_count": 42,
     "metadata": {},
     "output_type": "execute_result"
    }
   ],
   "source": [
    "Mat_np"
   ]
  },
  {
   "cell_type": "code",
   "execution_count": 43,
   "metadata": {},
   "outputs": [
    {
     "name": "stdout",
     "output_type": "stream",
     "text": [
      "7255\n"
     ]
    }
   ],
   "source": [
    "for i in range(len(OD)):\n",
    "    O=OD.iloc[i,:]['O_id']\n",
    "    D=OD.iloc[i,:]['D_id']\n",
    "    Mat_np[O,D]=OD.iloc[i,:]['flow']\n",
    "    if(Mat_np[O,D]>5000):\n",
    "        print(Mat_np[O,D])\n"
   ]
  },
  {
   "cell_type": "code",
   "execution_count": 44,
   "metadata": {},
   "outputs": [
    {
     "data": {
      "text/plain": [
       "array([[521,  85, 118, ...,   0,   0,   0],\n",
       "       [100, 481, 159, ...,   0,   0,   0],\n",
       "       [127, 170, 278, ...,   0,   0,   0],\n",
       "       ...,\n",
       "       [  0,   0,   0, ..., 172,  26,  11],\n",
       "       [  0,   0,   0, ...,  67, 224,  25],\n",
       "       [  0,   0,   0, ...,  20,  38, 105]])"
      ]
     },
     "execution_count": 44,
     "metadata": {},
     "output_type": "execute_result"
    }
   ],
   "source": [
    "Mat_np"
   ]
  },
  {
   "cell_type": "code",
   "execution_count": 45,
   "metadata": {},
   "outputs": [],
   "source": [
    "# Diag is zero\n",
    "row, col = np.diag_indices_from(Mat_np)\n",
    "Mat_np[row,col] = 0"
   ]
  },
  {
   "cell_type": "code",
   "execution_count": 47,
   "metadata": {},
   "outputs": [
    {
     "data": {
      "text/plain": [
       "array([[  0,  85, 118, ...,   0,   0,   0],\n",
       "       [100,   0, 159, ...,   0,   0,   0],\n",
       "       [127, 170,   0, ...,   0,   0,   0],\n",
       "       ...,\n",
       "       [  0,   0,   0, ...,   0,  26,  11],\n",
       "       [  0,   0,   0, ...,  67,   0,  25],\n",
       "       [  0,   0,   0, ...,  20,  38,   0]])"
      ]
     },
     "execution_count": 47,
     "metadata": {},
     "output_type": "execute_result"
    }
   ],
   "source": [
    "Mat_np"
   ]
  },
  {
   "cell_type": "code",
   "execution_count": null,
   "metadata": {},
   "outputs": [],
   "source": [
    "from scipy.sparse import csr_matrix\n",
    "\n",
    "# convert to sparse matrix representation \n",
    "A = csr_matrix(Mat_np)\n",
    "print(\"Sparse matrix: \\n\",A)"
   ]
  },
  {
   "cell_type": "code",
   "execution_count": 49,
   "metadata": {},
   "outputs": [
    {
     "name": "stdout",
     "output_type": "stream",
     "text": [
      "Sparse matrix: \n",
      "   (0, 0)\t1\n",
      "  (1, 0)\t1\n",
      "  (2, 0)\t1\n",
      "  (3, 0)\t1\n",
      "  (4, 0)\t1\n",
      "  (5, 0)\t1\n",
      "  (6, 0)\t1\n",
      "  (7, 0)\t1\n",
      "  (8, 0)\t1\n",
      "  (9, 0)\t1\n",
      "  (10, 0)\t1\n",
      "  (11, 0)\t1\n",
      "  (12, 0)\t1\n",
      "  (13, 0)\t1\n",
      "  (14, 0)\t1\n",
      "  (15, 0)\t1\n",
      "  (16, 0)\t1\n",
      "  (17, 0)\t1\n",
      "  (18, 0)\t1\n",
      "  (19, 0)\t1\n",
      "  (20, 0)\t1\n",
      "  (21, 0)\t1\n",
      "  (22, 0)\t1\n",
      "  (23, 0)\t1\n",
      "  (24, 0)\t1\n",
      "  :\t:\n",
      "  (2060, 0)\t1\n",
      "  (2061, 0)\t1\n",
      "  (2062, 0)\t1\n",
      "  (2063, 0)\t1\n",
      "  (2064, 0)\t1\n",
      "  (2065, 0)\t1\n",
      "  (2066, 0)\t1\n",
      "  (2067, 0)\t1\n",
      "  (2068, 0)\t1\n",
      "  (2069, 0)\t1\n",
      "  (2070, 0)\t1\n",
      "  (2071, 0)\t1\n",
      "  (2072, 0)\t1\n",
      "  (2073, 0)\t1\n",
      "  (2074, 0)\t1\n",
      "  (2075, 0)\t1\n",
      "  (2076, 0)\t1\n",
      "  (2077, 0)\t1\n",
      "  (2078, 0)\t1\n",
      "  (2079, 0)\t1\n",
      "  (2080, 0)\t1\n",
      "  (2081, 0)\t1\n",
      "  (2082, 0)\t1\n",
      "  (2083, 0)\t1\n",
      "  (2084, 0)\t1\n"
     ]
    }
   ],
   "source": [
    "m = 1\n",
    "n=2085\n",
    "X = [[1] * m] * n\n",
    "\n",
    "X_np=np.array(X)\n",
    "\n",
    "X = csr_matrix(X_np)\n",
    "print(\"Sparse matrix: \\n\",X)"
   ]
  },
  {
   "cell_type": "code",
   "execution_count": 50,
   "metadata": {},
   "outputs": [
    {
     "data": {
      "text/plain": [
       "array([[1],\n",
       "       [1],\n",
       "       [1],\n",
       "       ...,\n",
       "       [1],\n",
       "       [1],\n",
       "       [1]], dtype=int32)"
      ]
     },
     "execution_count": 50,
     "metadata": {},
     "output_type": "execute_result"
    }
   ],
   "source": [
    "from scipy import sparse\n",
    "\n",
    "\n",
    "\n",
    "A.save_npz('A.npz', A)  #保存\n",
    "X.save_npz('X.npz', X)  #保存\n",
    "\n",
    "#csr_matrix_variable = sparse.load_npz('path.npz') #读\n",
    "\n"
   ]
  },
  {
   "cell_type": "markdown",
   "metadata": {},
   "source": [
    "# Train the Overlapping GCN model"
   ]
  },
  {
   "cell_type": "code",
   "execution_count": 51,
   "metadata": {},
   "outputs": [],
   "source": [
    "import os\n",
    "\n",
    "os.chdir('D:/GNN/overlapping-community-detection-master/')#更改路径，''里面为更改的路径\n",
    "\n",
    "import nocd\n",
    "import matplotlib.pyplot as plt\n",
    "import numpy as np\n",
    "import scipy.sparse as sp\n",
    "import torch\n",
    "import torch.nn as nn\n",
    "import torch.nn.functional as F\n",
    "\n",
    "from sklearn.preprocessing import normalize\n",
    "\n",
    "\n",
    "%matplotlib inline\n",
    "\n",
    "torch.set_default_tensor_type(torch.cuda.FloatTensor)"
   ]
  },
  {
   "cell_type": "markdown",
   "metadata": {},
   "source": [
    "Define the hyperparameters"
   ]
  },
  {
   "cell_type": "code",
   "execution_count": 54,
   "metadata": {},
   "outputs": [],
   "source": [
    "hidden_sizes = [128]    # hidden sizes of the GNN\n",
    "weight_decay = 1e-2     # strength of L2 regularization on GNN weights\n",
    "dropout = 0.5           # whether to use dropout\n",
    "batch_norm = True       # whether to use batch norm\n",
    "lr = 1e-3               # learning rate\n",
    "max_epochs = 500        # number of epochs to train\n",
    "display_step = 25       # how often to compute validation loss\n",
    "balance_loss = True     # whether to use balanced loss\n",
    "stochastic_loss = True  # whether to use stochastic or full-batch training\n",
    "batch_size = 20000      # batch size (only for stochastic training)"
   ]
  },
  {
   "cell_type": "markdown",
   "metadata": {},
   "source": [
    "Select & normalize the feature matrix\n",
    "\n",
    "For some datasets where the features are very informative / correlated with the community structure it's better to use `X` as input (e.g. co-authorship networks w/ keywords as node features). Otherwise, you should try using `A` or `[A, X]` as input."
   ]
  },
  {
   "cell_type": "code",
   "execution_count": 55,
   "metadata": {},
   "outputs": [],
   "source": [
    "x_norm = normalize(X)  # node features\n",
    "# x_norm = normalize(A)  # adjacency matrix\n",
    "# x_norm = sp.hstack([normalize(X), normalize(A)])  # concatenate A and X\n",
    "x_norm = nocd.utils.to_sparse_tensor(x_norm).cuda()"
   ]
  },
  {
   "cell_type": "markdown",
   "metadata": {},
   "source": [
    "Define the GNN model"
   ]
  },
  {
   "cell_type": "code",
   "execution_count": 56,
   "metadata": {},
   "outputs": [],
   "source": [
    "N=X.shape[0]\n",
    "K=50\n",
    "\n",
    "sampler = nocd.sampler.get_edge_sampler(A, batch_size, batch_size, num_workers=5)\n",
    "gnn = nocd.nn.GCN(x_norm.shape[1], hidden_sizes, K, batch_norm=batch_norm, dropout=dropout).cuda()\n",
    "adj_norm = gnn.normalize_adj(A)\n",
    "decoder = nocd.nn.BerpoDecoder(N, A.nnz, balance_loss=balance_loss)\n",
    "opt = torch.optim.Adam(gnn.parameters(), lr=lr)"
   ]
  },
  {
   "cell_type": "code",
   "execution_count": null,
   "metadata": {},
   "outputs": [],
   "source": [
    " \n"
   ]
  },
  {
   "cell_type": "code",
   "execution_count": null,
   "metadata": {},
   "outputs": [],
   "source": [
    "val_loss = np.inf\n",
    "validation_fn = lambda: val_loss\n",
    "early_stopping = nocd.train.NoImprovementStopping(validation_fn, patience=10)\n",
    "model_saver = nocd.train.ModelSaver(gnn)\n",
    "\n",
    "\n",
    "for epoch, batch in enumerate(sampler):\n",
    "    if epoch > max_epochs:\n",
    "        break\n",
    "    if epoch % 2 == 0:\n",
    "        localtime = time.asctime( time.localtime(time.time()) )\n",
    "        print(localtime)\n",
    "        with torch.no_grad():\n",
    "            gnn.eval()\n",
    "            # Compute validation loss\n",
    "            Z = F.relu(gnn(x_norm, adj_norm))\n",
    "            val_loss = decoder.loss_full(Z, A)\n",
    "            #print(f'Epoch {epoch:4d}, loss.full = {val_loss:.4f}, nmi = {get_nmi():.2f}')\n",
    "            \n",
    "            # Check if it's time for early stopping / to save the model\n",
    "            early_stopping.next_step()\n",
    "            if early_stopping.should_save():\n",
    "                model_saver.save()\n",
    "            if early_stopping.should_stop():\n",
    "                print(f'Breaking due to early stopping at epoch {epoch}')\n",
    "                break\n",
    "            \n",
    "    # Training step\n",
    "    gnn.train()\n",
    "    opt.zero_grad()\n",
    "    Z = F.relu(gnn(x_norm, adj_norm))\n",
    "    ones_idx, zeros_idx = batch\n",
    "    if stochastic_loss:\n",
    "        loss = decoder.loss_batch(Z, ones_idx, zeros_idx)\n",
    "    else:\n",
    "        loss = decoder.loss_full(Z, A)\n",
    "    loss += nocd.utils.l2_reg_loss(gnn, scale=weight_decay)\n",
    "    loss.backward()\n",
    "    opt.step()"
   ]
  },
  {
   "cell_type": "code",
   "execution_count": null,
   "metadata": {},
   "outputs": [],
   "source": [
    "print(AS)"
   ]
  },
  {
   "cell_type": "code",
   "execution_count": null,
   "metadata": {},
   "outputs": [],
   "source": []
  }
 ],
 "metadata": {
  "kernelspec": {
   "display_name": "Python 3",
   "language": "python",
   "name": "python3"
  },
  "language_info": {
   "codemirror_mode": {
    "name": "ipython",
    "version": 3
   },
   "file_extension": ".py",
   "mimetype": "text/x-python",
   "name": "python",
   "nbconvert_exporter": "python",
   "pygments_lexer": "ipython3",
   "version": "3.8.3"
  }
 },
 "nbformat": 4,
 "nbformat_minor": 4
}
