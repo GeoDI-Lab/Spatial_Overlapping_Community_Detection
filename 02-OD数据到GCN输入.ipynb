{
 "cells": [
  {
   "cell_type": "markdown",
   "metadata": {},
   "source": [
    "# （1）Crate A and X matrix\n"
   ]
  },
  {
   "cell_type": "code",
   "execution_count": 47,
   "metadata": {},
   "outputs": [],
   "source": [
    "import pandas as pd\n",
    "import numpy as np\n",
    "\n",
    "OD=pd.read_csv('D:\\\\GNN\\\\OCD\\\\OD_pd.csv')"
   ]
  },
  {
   "cell_type": "code",
   "execution_count": 48,
   "metadata": {},
   "outputs": [
    {
     "data": {
      "text/html": [
       "<div>\n",
       "<style scoped>\n",
       "    .dataframe tbody tr th:only-of-type {\n",
       "        vertical-align: middle;\n",
       "    }\n",
       "\n",
       "    .dataframe tbody tr th {\n",
       "        vertical-align: top;\n",
       "    }\n",
       "\n",
       "    .dataframe thead th {\n",
       "        text-align: right;\n",
       "    }\n",
       "</style>\n",
       "<table border=\"1\" class=\"dataframe\">\n",
       "  <thead>\n",
       "    <tr style=\"text-align: right;\">\n",
       "      <th></th>\n",
       "      <th>Unnamed: 0</th>\n",
       "      <th>O</th>\n",
       "      <th>D</th>\n",
       "      <th>flow</th>\n",
       "      <th>O_id</th>\n",
       "      <th>D_id</th>\n",
       "    </tr>\n",
       "  </thead>\n",
       "  <tbody>\n",
       "    <tr>\n",
       "      <th>0</th>\n",
       "      <td>0</td>\n",
       "      <td>270539800001</td>\n",
       "      <td>270539800001</td>\n",
       "      <td>7145</td>\n",
       "      <td>1485</td>\n",
       "      <td>1485</td>\n",
       "    </tr>\n",
       "    <tr>\n",
       "      <th>1</th>\n",
       "      <td>1</td>\n",
       "      <td>270530269092</td>\n",
       "      <td>270530269092</td>\n",
       "      <td>3311</td>\n",
       "      <td>1159</td>\n",
       "      <td>1159</td>\n",
       "    </tr>\n",
       "    <tr>\n",
       "      <th>2</th>\n",
       "      <td>2</td>\n",
       "      <td>270530251002</td>\n",
       "      <td>270530251002</td>\n",
       "      <td>2371</td>\n",
       "      <td>861</td>\n",
       "      <td>861</td>\n",
       "    </tr>\n",
       "    <tr>\n",
       "      <th>3</th>\n",
       "      <td>3</td>\n",
       "      <td>271390803011</td>\n",
       "      <td>271390803011</td>\n",
       "      <td>2347</td>\n",
       "      <td>1904</td>\n",
       "      <td>1904</td>\n",
       "    </tr>\n",
       "    <tr>\n",
       "      <th>4</th>\n",
       "      <td>4</td>\n",
       "      <td>270530267105</td>\n",
       "      <td>270530267105</td>\n",
       "      <td>1928</td>\n",
       "      <td>1072</td>\n",
       "      <td>1072</td>\n",
       "    </tr>\n",
       "    <tr>\n",
       "      <th>...</th>\n",
       "      <td>...</td>\n",
       "      <td>...</td>\n",
       "      <td>...</td>\n",
       "      <td>...</td>\n",
       "      <td>...</td>\n",
       "      <td>...</td>\n",
       "    </tr>\n",
       "    <tr>\n",
       "      <th>14159</th>\n",
       "      <td>14159</td>\n",
       "      <td>271230425014</td>\n",
       "      <td>271230424024</td>\n",
       "      <td>11</td>\n",
       "      <td>1860</td>\n",
       "      <td>1856</td>\n",
       "    </tr>\n",
       "    <tr>\n",
       "      <th>14160</th>\n",
       "      <td>14160</td>\n",
       "      <td>270370607501</td>\n",
       "      <td>270370607212</td>\n",
       "      <td>11</td>\n",
       "      <td>420</td>\n",
       "      <td>365</td>\n",
       "    </tr>\n",
       "    <tr>\n",
       "      <th>14161</th>\n",
       "      <td>14161</td>\n",
       "      <td>270370607342</td>\n",
       "      <td>270370607312</td>\n",
       "      <td>11</td>\n",
       "      <td>390</td>\n",
       "      <td>381</td>\n",
       "    </tr>\n",
       "    <tr>\n",
       "      <th>14162</th>\n",
       "      <td>14162</td>\n",
       "      <td>270531069002</td>\n",
       "      <td>270531108002</td>\n",
       "      <td>11</td>\n",
       "      <td>1344</td>\n",
       "      <td>1422</td>\n",
       "    </tr>\n",
       "    <tr>\n",
       "      <th>14163</th>\n",
       "      <td>14163</td>\n",
       "      <td>270030508072</td>\n",
       "      <td>270030507061</td>\n",
       "      <td>11</td>\n",
       "      <td>148</td>\n",
       "      <td>118</td>\n",
       "    </tr>\n",
       "  </tbody>\n",
       "</table>\n",
       "<p>14164 rows × 6 columns</p>\n",
       "</div>"
      ],
      "text/plain": [
       "       Unnamed: 0             O             D  flow  O_id  D_id\n",
       "0               0  270539800001  270539800001  7145  1485  1485\n",
       "1               1  270530269092  270530269092  3311  1159  1159\n",
       "2               2  270530251002  270530251002  2371   861   861\n",
       "3               3  271390803011  271390803011  2347  1904  1904\n",
       "4               4  270530267105  270530267105  1928  1072  1072\n",
       "...           ...           ...           ...   ...   ...   ...\n",
       "14159       14159  271230425014  271230424024    11  1860  1856\n",
       "14160       14160  270370607501  270370607212    11   420   365\n",
       "14161       14161  270370607342  270370607312    11   390   381\n",
       "14162       14162  270531069002  270531108002    11  1344  1422\n",
       "14163       14163  270030508072  270030507061    11   148   118\n",
       "\n",
       "[14164 rows x 6 columns]"
      ]
     },
     "execution_count": 48,
     "metadata": {},
     "output_type": "execute_result"
    }
   ],
   "source": [
    "OD"
   ]
  },
  {
   "cell_type": "code",
   "execution_count": 49,
   "metadata": {},
   "outputs": [
    {
     "data": {
      "text/html": [
       "<div>\n",
       "<style scoped>\n",
       "    .dataframe tbody tr th:only-of-type {\n",
       "        vertical-align: middle;\n",
       "    }\n",
       "\n",
       "    .dataframe tbody tr th {\n",
       "        vertical-align: top;\n",
       "    }\n",
       "\n",
       "    .dataframe thead th {\n",
       "        text-align: right;\n",
       "    }\n",
       "</style>\n",
       "<table border=\"1\" class=\"dataframe\">\n",
       "  <thead>\n",
       "    <tr style=\"text-align: right;\">\n",
       "      <th></th>\n",
       "      <th>Unnamed: 0</th>\n",
       "      <th>O</th>\n",
       "      <th>D</th>\n",
       "      <th>flow</th>\n",
       "      <th>O_id</th>\n",
       "      <th>D_id</th>\n",
       "    </tr>\n",
       "  </thead>\n",
       "  <tbody>\n",
       "    <tr>\n",
       "      <th>314</th>\n",
       "      <td>314</td>\n",
       "      <td>271630714004</td>\n",
       "      <td>271630714004</td>\n",
       "      <td>224</td>\n",
       "      <td>2083</td>\n",
       "      <td>2083</td>\n",
       "    </tr>\n",
       "    <tr>\n",
       "      <th>2474</th>\n",
       "      <td>2474</td>\n",
       "      <td>271630714004</td>\n",
       "      <td>271630714003</td>\n",
       "      <td>53</td>\n",
       "      <td>2083</td>\n",
       "      <td>2082</td>\n",
       "    </tr>\n",
       "    <tr>\n",
       "      <th>3740</th>\n",
       "      <td>3740</td>\n",
       "      <td>271630714004</td>\n",
       "      <td>271630712092</td>\n",
       "      <td>37</td>\n",
       "      <td>2083</td>\n",
       "      <td>2076</td>\n",
       "    </tr>\n",
       "    <tr>\n",
       "      <th>3904</th>\n",
       "      <td>3904</td>\n",
       "      <td>271630714004</td>\n",
       "      <td>271630714002</td>\n",
       "      <td>36</td>\n",
       "      <td>2083</td>\n",
       "      <td>2081</td>\n",
       "    </tr>\n",
       "    <tr>\n",
       "      <th>5523</th>\n",
       "      <td>5523</td>\n",
       "      <td>271630714004</td>\n",
       "      <td>271630712061</td>\n",
       "      <td>27</td>\n",
       "      <td>2083</td>\n",
       "      <td>2066</td>\n",
       "    </tr>\n",
       "    <tr>\n",
       "      <th>6044</th>\n",
       "      <td>6044</td>\n",
       "      <td>271630714004</td>\n",
       "      <td>271630714005</td>\n",
       "      <td>25</td>\n",
       "      <td>2083</td>\n",
       "      <td>2084</td>\n",
       "    </tr>\n",
       "    <tr>\n",
       "      <th>10927</th>\n",
       "      <td>10927</td>\n",
       "      <td>271630714004</td>\n",
       "      <td>271630712083</td>\n",
       "      <td>14</td>\n",
       "      <td>2083</td>\n",
       "      <td>2074</td>\n",
       "    </tr>\n",
       "    <tr>\n",
       "      <th>11204</th>\n",
       "      <td>11204</td>\n",
       "      <td>271630714004</td>\n",
       "      <td>271630714001</td>\n",
       "      <td>14</td>\n",
       "      <td>2083</td>\n",
       "      <td>2080</td>\n",
       "    </tr>\n",
       "  </tbody>\n",
       "</table>\n",
       "</div>"
      ],
      "text/plain": [
       "       Unnamed: 0             O             D  flow  O_id  D_id\n",
       "314           314  271630714004  271630714004   224  2083  2083\n",
       "2474         2474  271630714004  271630714003    53  2083  2082\n",
       "3740         3740  271630714004  271630712092    37  2083  2076\n",
       "3904         3904  271630714004  271630714002    36  2083  2081\n",
       "5523         5523  271630714004  271630712061    27  2083  2066\n",
       "6044         6044  271630714004  271630714005    25  2083  2084\n",
       "10927       10927  271630714004  271630712083    14  2083  2074\n",
       "11204       11204  271630714004  271630714001    14  2083  2080"
      ]
     },
     "execution_count": 49,
     "metadata": {},
     "output_type": "execute_result"
    }
   ],
   "source": [
    "OD.query('O_id==2083')"
   ]
  },
  {
   "cell_type": "code",
   "execution_count": 50,
   "metadata": {},
   "outputs": [],
   "source": [
    "m = n = 2085\n",
    "Mat = [[0] * m] * n"
   ]
  },
  {
   "cell_type": "code",
   "execution_count": 52,
   "metadata": {},
   "outputs": [],
   "source": [
    "Mat_np=np.array(Mat)"
   ]
  },
  {
   "cell_type": "code",
   "execution_count": 53,
   "metadata": {},
   "outputs": [
    {
     "data": {
      "text/plain": [
       "array([[0, 0, 0, ..., 0, 0, 0],\n",
       "       [0, 0, 0, ..., 0, 0, 0],\n",
       "       [0, 0, 0, ..., 0, 0, 0],\n",
       "       ...,\n",
       "       [0, 0, 0, ..., 0, 0, 0],\n",
       "       [0, 0, 0, ..., 0, 0, 0],\n",
       "       [0, 0, 0, ..., 0, 0, 0]])"
      ]
     },
     "execution_count": 53,
     "metadata": {},
     "output_type": "execute_result"
    }
   ],
   "source": [
    "Mat_np"
   ]
  },
  {
   "cell_type": "code",
   "execution_count": 54,
   "metadata": {},
   "outputs": [
    {
     "data": {
      "text/plain": [
       "1159"
      ]
     },
     "execution_count": 54,
     "metadata": {},
     "output_type": "execute_result"
    }
   ],
   "source": [
    "O=OD.iloc[1,:]['O_id']\n",
    "O"
   ]
  },
  {
   "cell_type": "code",
   "execution_count": 55,
   "metadata": {},
   "outputs": [
    {
     "name": "stdout",
     "output_type": "stream",
     "text": [
      "7145\n"
     ]
    }
   ],
   "source": [
    "for i in range(len(OD)):\n",
    "    O=OD.iloc[i,:]['O_id']\n",
    "    D=OD.iloc[i,:]['D_id']\n",
    "    Mat_np[O,D]=OD.iloc[i,:]['flow']\n",
    "    if(Mat_np[O,D]>5000):\n",
    "        print(Mat_np[O,D])\n"
   ]
  },
  {
   "cell_type": "code",
   "execution_count": 56,
   "metadata": {},
   "outputs": [
    {
     "data": {
      "text/plain": [
       "67"
      ]
     },
     "execution_count": 56,
     "metadata": {},
     "output_type": "execute_result"
    }
   ],
   "source": [
    "Mat_np[0,1]"
   ]
  },
  {
   "cell_type": "code",
   "execution_count": 57,
   "metadata": {},
   "outputs": [],
   "source": [
    "# Diag is zero\n",
    "row, col = np.diag_indices_from(Mat_np)\n",
    "Mat_np[row,col] = 0"
   ]
  },
  {
   "cell_type": "code",
   "execution_count": 58,
   "metadata": {},
   "outputs": [
    {
     "data": {
      "text/plain": [
       "0"
      ]
     },
     "execution_count": 58,
     "metadata": {},
     "output_type": "execute_result"
    }
   ],
   "source": [
    "Mat_np[0,0]"
   ]
  },
  {
   "cell_type": "code",
   "execution_count": 59,
   "metadata": {},
   "outputs": [],
   "source": [
    "m = n = 2085\n",
    "Mat_sym = [[0] * m] * n\n",
    "Mat_sym=np.array(Mat_sym)\n",
    "\n",
    "for i in range(2085):\n",
    "    for j in range(2085):\n",
    "        Mat_sym[i,j]=Mat_np[i,j]+Mat_np[j,i]\n",
    "        "
   ]
  },
  {
   "cell_type": "code",
   "execution_count": 60,
   "metadata": {},
   "outputs": [
    {
     "data": {
      "text/plain": [
       "array([[  0, 134, 233, ...,   0,   0,   0],\n",
       "       [134,   0, 288, ...,   0,   0,   0],\n",
       "       [233, 288,   0, ...,   0,   0,   0],\n",
       "       ...,\n",
       "       [  0,   0,   0, ...,   0,  75,  11],\n",
       "       [  0,   0,   0, ...,  75,   0,  63],\n",
       "       [  0,   0,   0, ...,  11,  63,   0]])"
      ]
     },
     "execution_count": 60,
     "metadata": {},
     "output_type": "execute_result"
    }
   ],
   "source": [
    "Mat_sym"
   ]
  },
  {
   "cell_type": "code",
   "execution_count": 61,
   "metadata": {},
   "outputs": [
    {
     "name": "stdout",
     "output_type": "stream",
     "text": [
      "Sparse matrix: \n",
      "   (0, 1)\t134\n",
      "  (0, 2)\t233\n",
      "  (0, 12)\t55\n",
      "  (0, 15)\t43\n",
      "  (0, 18)\t11\n",
      "  (0, 20)\t14\n",
      "  (1, 0)\t134\n",
      "  (1, 2)\t288\n",
      "  (1, 3)\t52\n",
      "  (1, 12)\t24\n",
      "  (1, 13)\t58\n",
      "  (1, 14)\t47\n",
      "  (1, 15)\t138\n",
      "  (2, 0)\t233\n",
      "  (2, 1)\t288\n",
      "  (2, 12)\t15\n",
      "  (2, 13)\t15\n",
      "  (2, 15)\t56\n",
      "  (3, 1)\t52\n",
      "  (3, 4)\t31\n",
      "  (3, 5)\t13\n",
      "  (3, 14)\t12\n",
      "  (4, 3)\t31\n",
      "  (4, 5)\t11\n",
      "  (4, 6)\t72\n",
      "  :\t:\n",
      "  (2081, 2084)\t89\n",
      "  (2082, 2070)\t21\n",
      "  (2082, 2073)\t13\n",
      "  (2082, 2076)\t56\n",
      "  (2082, 2078)\t31\n",
      "  (2082, 2081)\t17\n",
      "  (2082, 2083)\t75\n",
      "  (2082, 2084)\t11\n",
      "  (2083, 2066)\t45\n",
      "  (2083, 2072)\t12\n",
      "  (2083, 2074)\t33\n",
      "  (2083, 2076)\t99\n",
      "  (2083, 2080)\t33\n",
      "  (2083, 2081)\t99\n",
      "  (2083, 2082)\t75\n",
      "  (2083, 2084)\t63\n",
      "  (2084, 2066)\t71\n",
      "  (2084, 2067)\t16\n",
      "  (2084, 2074)\t68\n",
      "  (2084, 2076)\t18\n",
      "  (2084, 2079)\t18\n",
      "  (2084, 2080)\t56\n",
      "  (2084, 2081)\t89\n",
      "  (2084, 2082)\t11\n",
      "  (2084, 2083)\t63\n"
     ]
    }
   ],
   "source": [
    "from scipy.sparse import csr_matrix\n",
    "\n",
    "# convert to sparse matrix representation \n",
    "A = csr_matrix(Mat_sym)\n",
    "print(\"Sparse matrix: \\n\",A)"
   ]
  },
  {
   "cell_type": "code",
   "execution_count": 62,
   "metadata": {},
   "outputs": [
    {
     "name": "stdout",
     "output_type": "stream",
     "text": [
      "Sparse matrix: \n",
      "   (0, 0)\t1\n",
      "  (1, 0)\t1\n",
      "  (2, 0)\t1\n",
      "  (3, 0)\t1\n",
      "  (4, 0)\t1\n",
      "  (5, 0)\t1\n",
      "  (6, 0)\t1\n",
      "  (7, 0)\t1\n",
      "  (8, 0)\t1\n",
      "  (9, 0)\t1\n",
      "  (10, 0)\t1\n",
      "  (11, 0)\t1\n",
      "  (12, 0)\t1\n",
      "  (13, 0)\t1\n",
      "  (14, 0)\t1\n",
      "  (15, 0)\t1\n",
      "  (16, 0)\t1\n",
      "  (17, 0)\t1\n",
      "  (18, 0)\t1\n",
      "  (19, 0)\t1\n",
      "  (20, 0)\t1\n",
      "  (21, 0)\t1\n",
      "  (22, 0)\t1\n",
      "  (23, 0)\t1\n",
      "  (24, 0)\t1\n",
      "  :\t:\n",
      "  (2060, 0)\t1\n",
      "  (2061, 0)\t1\n",
      "  (2062, 0)\t1\n",
      "  (2063, 0)\t1\n",
      "  (2064, 0)\t1\n",
      "  (2065, 0)\t1\n",
      "  (2066, 0)\t1\n",
      "  (2067, 0)\t1\n",
      "  (2068, 0)\t1\n",
      "  (2069, 0)\t1\n",
      "  (2070, 0)\t1\n",
      "  (2071, 0)\t1\n",
      "  (2072, 0)\t1\n",
      "  (2073, 0)\t1\n",
      "  (2074, 0)\t1\n",
      "  (2075, 0)\t1\n",
      "  (2076, 0)\t1\n",
      "  (2077, 0)\t1\n",
      "  (2078, 0)\t1\n",
      "  (2079, 0)\t1\n",
      "  (2080, 0)\t1\n",
      "  (2081, 0)\t1\n",
      "  (2082, 0)\t1\n",
      "  (2083, 0)\t1\n",
      "  (2084, 0)\t1\n"
     ]
    }
   ],
   "source": [
    "m = 1\n",
    "n=2085\n",
    "X = [[1] * m] * n\n",
    "\n",
    "X_np=np.array(X)\n",
    "\n",
    "X = csr_matrix(X_np)\n",
    "print(\"Sparse matrix: \\n\",X)"
   ]
  },
  {
   "cell_type": "code",
   "execution_count": 63,
   "metadata": {},
   "outputs": [],
   "source": [
    "from scipy import sparse\n",
    "\n",
    "\n",
    "sparse.save_npz('D:/GNN/overlapping-community-detection-master/A_0526.npz', A)  #保存\n",
    "sparse.save_npz('D:/GNN/overlapping-community-detection-master/X_0526.npz', X)  #保存\n",
    "\n",
    "#csr_matrix_variable = sparse.load_npz('path.npz') #读\n",
    "\n"
   ]
  },
  {
   "cell_type": "code",
   "execution_count": 66,
   "metadata": {},
   "outputs": [
    {
     "data": {
      "text/plain": [
       "matrix([[  0, 134, 233, ...,   0,   0,   0],\n",
       "        [134,   0, 288, ...,   0,   0,   0],\n",
       "        [233, 288,   0, ...,   0,   0,   0],\n",
       "        ...,\n",
       "        [  0,   0,   0, ...,   0,  75,  11],\n",
       "        [  0,   0,   0, ...,  75,   0,  63],\n",
       "        [  0,   0,   0, ...,  11,  63,   0]], dtype=int32)"
      ]
     },
     "execution_count": 66,
     "metadata": {},
     "output_type": "execute_result"
    }
   ],
   "source": [
    "A.todense()"
   ]
  },
  {
   "cell_type": "code",
   "execution_count": 67,
   "metadata": {},
   "outputs": [],
   "source": [
    "A_non_sym = csr_matrix(Mat_np)\n",
    "\n",
    "\n",
    "A_non_sym.todense()\n",
    "\n",
    "sparse.save_npz('D:/GNN/overlapping-community-detection-master/A_non_sym.npz', A_non_sym)  #保存\n"
   ]
  },
  {
   "cell_type": "code",
   "execution_count": 68,
   "metadata": {},
   "outputs": [
    {
     "data": {
      "text/plain": [
       "matrix([[  0,  67, 117, ...,   0,   0,   0],\n",
       "        [ 67,   0, 141, ...,   0,   0,   0],\n",
       "        [116, 147,   0, ...,   0,   0,   0],\n",
       "        ...,\n",
       "        [  0,   0,   0, ...,   0,  22,   0],\n",
       "        [  0,   0,   0, ...,  53,   0,  25],\n",
       "        [  0,   0,   0, ...,  11,  38,   0]], dtype=int32)"
      ]
     },
     "execution_count": 68,
     "metadata": {},
     "output_type": "execute_result"
    }
   ],
   "source": [
    "A_non_sym.todense()"
   ]
  },
  {
   "cell_type": "markdown",
   "metadata": {},
   "source": [
    "# Train the Overlapping GCN model"
   ]
  },
  {
   "cell_type": "code",
   "execution_count": 51,
   "metadata": {},
   "outputs": [],
   "source": [
    "import os\n",
    "\n",
    "os.chdir('D:/GNN/overlapping-community-detection-master/')#更改路径，''里面为更改的路径\n",
    "\n",
    "import nocd\n",
    "import matplotlib.pyplot as plt\n",
    "import numpy as np\n",
    "import scipy.sparse as sp\n",
    "import torch\n",
    "import torch.nn as nn\n",
    "import torch.nn.functional as F\n",
    "\n",
    "from sklearn.preprocessing import normalize\n",
    "\n",
    "\n",
    "%matplotlib inline\n",
    "\n",
    "torch.set_default_tensor_type(torch.cuda.FloatTensor)"
   ]
  },
  {
   "cell_type": "markdown",
   "metadata": {},
   "source": [
    "Define the hyperparameters"
   ]
  },
  {
   "cell_type": "code",
   "execution_count": 54,
   "metadata": {},
   "outputs": [],
   "source": [
    "hidden_sizes = [128]    # hidden sizes of the GNN\n",
    "weight_decay = 1e-2     # strength of L2 regularization on GNN weights\n",
    "dropout = 0.5           # whether to use dropout\n",
    "batch_norm = True       # whether to use batch norm\n",
    "lr = 1e-3               # learning rate\n",
    "max_epochs = 500        # number of epochs to train\n",
    "display_step = 25       # how often to compute validation loss\n",
    "balance_loss = True     # whether to use balanced loss\n",
    "stochastic_loss = True  # whether to use stochastic or full-batch training\n",
    "batch_size = 20000      # batch size (only for stochastic training)"
   ]
  },
  {
   "cell_type": "markdown",
   "metadata": {},
   "source": [
    "Select & normalize the feature matrix\n",
    "\n",
    "For some datasets where the features are very informative / correlated with the community structure it's better to use `X` as input (e.g. co-authorship networks w/ keywords as node features). Otherwise, you should try using `A` or `[A, X]` as input."
   ]
  },
  {
   "cell_type": "code",
   "execution_count": 55,
   "metadata": {},
   "outputs": [],
   "source": [
    "x_norm = normalize(X)  # node features\n",
    "# x_norm = normalize(A)  # adjacency matrix\n",
    "# x_norm = sp.hstack([normalize(X), normalize(A)])  # concatenate A and X\n",
    "x_norm = nocd.utils.to_sparse_tensor(x_norm).cuda()"
   ]
  },
  {
   "cell_type": "markdown",
   "metadata": {},
   "source": [
    "Define the GNN model"
   ]
  },
  {
   "cell_type": "code",
   "execution_count": 56,
   "metadata": {},
   "outputs": [],
   "source": [
    "N=X.shape[0]\n",
    "K=50\n",
    "\n",
    "sampler = nocd.sampler.get_edge_sampler(A, batch_size, batch_size, num_workers=5)\n",
    "gnn = nocd.nn.GCN(x_norm.shape[1], hidden_sizes, K, batch_norm=batch_norm, dropout=dropout).cuda()\n",
    "adj_norm = gnn.normalize_adj(A)\n",
    "decoder = nocd.nn.BerpoDecoder(N, A.nnz, balance_loss=balance_loss)\n",
    "opt = torch.optim.Adam(gnn.parameters(), lr=lr)"
   ]
  },
  {
   "cell_type": "code",
   "execution_count": null,
   "metadata": {},
   "outputs": [],
   "source": [
    " \n"
   ]
  },
  {
   "cell_type": "code",
   "execution_count": null,
   "metadata": {},
   "outputs": [],
   "source": [
    "val_loss = np.inf\n",
    "validation_fn = lambda: val_loss\n",
    "early_stopping = nocd.train.NoImprovementStopping(validation_fn, patience=10)\n",
    "model_saver = nocd.train.ModelSaver(gnn)\n",
    "\n",
    "\n",
    "for epoch, batch in enumerate(sampler):\n",
    "    if epoch > max_epochs:\n",
    "        break\n",
    "    if epoch % 2 == 0:\n",
    "        localtime = time.asctime( time.localtime(time.time()) )\n",
    "        print(localtime)\n",
    "        with torch.no_grad():\n",
    "            gnn.eval()\n",
    "            # Compute validation loss\n",
    "            Z = F.relu(gnn(x_norm, adj_norm))\n",
    "            val_loss = decoder.loss_full(Z, A)\n",
    "            #print(f'Epoch {epoch:4d}, loss.full = {val_loss:.4f}, nmi = {get_nmi():.2f}')\n",
    "            \n",
    "            # Check if it's time for early stopping / to save the model\n",
    "            early_stopping.next_step()\n",
    "            if early_stopping.should_save():\n",
    "                model_saver.save()\n",
    "            if early_stopping.should_stop():\n",
    "                print(f'Breaking due to early stopping at epoch {epoch}')\n",
    "                break\n",
    "            \n",
    "    # Training step\n",
    "    gnn.train()\n",
    "    opt.zero_grad()\n",
    "    Z = F.relu(gnn(x_norm, adj_norm))\n",
    "    ones_idx, zeros_idx = batch\n",
    "    if stochastic_loss:\n",
    "        loss = decoder.loss_batch(Z, ones_idx, zeros_idx)\n",
    "    else:\n",
    "        loss = decoder.loss_full(Z, A)\n",
    "    loss += nocd.utils.l2_reg_loss(gnn, scale=weight_decay)\n",
    "    loss.backward()\n",
    "    opt.step()"
   ]
  },
  {
   "cell_type": "code",
   "execution_count": null,
   "metadata": {},
   "outputs": [],
   "source": [
    "print(AS)"
   ]
  },
  {
   "cell_type": "code",
   "execution_count": null,
   "metadata": {},
   "outputs": [],
   "source": []
  }
 ],
 "metadata": {
  "kernelspec": {
   "display_name": "Python 3",
   "language": "python",
   "name": "python3"
  },
  "language_info": {
   "codemirror_mode": {
    "name": "ipython",
    "version": 3
   },
   "file_extension": ".py",
   "mimetype": "text/x-python",
   "name": "python",
   "nbconvert_exporter": "python",
   "pygments_lexer": "ipython3",
   "version": "3.8.3"
  }
 },
 "nbformat": 4,
 "nbformat_minor": 4
}
